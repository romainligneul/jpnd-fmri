{
 "cells": [
  {
   "cell_type": "code",
   "execution_count": 1,
   "metadata": {},
   "outputs": [],
   "source": [
    "import numpy as np\n",
    "import random\n",
    "import types\n",
    "import pandas as pd\n",
    "import numpy as np\n",
    "from functools import partial\n",
    "import time\n",
    "import os\n",
    "import seaborn as sns\n",
    "import pickle\n",
    "import glob\n",
    "from matplotlib import cm\n",
    "import matplotlib\n",
    "from sklearn.linear_model import LinearRegression\n",
    "from IPython.display import display, HTML\n",
    "import random\n",
    "from groupBMC.groupBMC import GroupBMC\n",
    "from sklearn.impute import SimpleImputer\n",
    "from sklearn.metrics import confusion_matrix\n",
    "from scipy.stats import zscore\n",
    "import seaborn as sns\n",
    "import matplotlib.pyplot as plt"
   ]
  },
  {
   "cell_type": "code",
   "execution_count": 2,
   "metadata": {},
   "outputs": [
    {
     "name": "stdout",
     "output_type": "stream",
     "text": [
      "here\n"
     ]
    }
   ],
   "source": [
    "### Select dataset\n",
    "compiled_datadir='compiled_data'\n",
    "dataset_name='dev'\n",
    "\n",
    "## Load data\n",
    "data_file=os.path.join(compiled_datadir,dataset_name, 'dataset.pkl')\n",
    "#\n",
    "df_full=pd.read_pickle(data_file)\n",
    "\n",
    "# Load metadata\n",
    "metadata_file=os.path.join(compiled_datadir,dataset_name, 'metadata.pkl')\n",
    "with open(metadata_file, 'rb') as file:\n",
    "    metadata = pickle.load(file)\n",
    "\n",
    "\n",
    "fit_folder='./model_fits/basic_modelspace_bads_it250_funit500_nres5_resetall/'\n",
    "\n",
    "fit_prefixes = ''\n",
    "    \n",
    "pre_filelist=glob.glob(os.path.join(fit_folder,fit_prefixes+\"*.pkl\"))\n",
    "fit_filelist = [file for file in pre_filelist if not file.endswith(\"_info.pkl\")]\n",
    "info_filelist = [file for file in pre_filelist if file.endswith(\"_info.pkl\")]\n",
    "\n",
    "\n",
    "results_list=[]\n",
    "\n",
    "compared_models=['SASonly', 'SASSS_Omega_standard'] #+'Q_Go_V_pers_cntFull'\n",
    "selected_model='SASSS_Omega_standard'\n",
    "\n",
    "#compared_models=['Q', 'Q_Go', 'Q_V', 'Q_Go_V', 'Q_Go_V_pers','Q_Go_V_pers_cntCV_arbCV'] #+'Q_Go_V_pers_cntFull'\n",
    "\n",
    "targets_only=True # helper for dir approach\n",
    "\n",
    "model_names=[]\n",
    "initial_order=[]\n",
    "\n",
    "loadMode='dir' # dir or targets\n",
    "\n",
    "\n",
    "if loadMode=='dir':\n",
    "\n",
    "    for i, filepath in enumerate(fit_filelist):\n",
    "        \n",
    "        model_name = os.path.basename(filepath[0:-4])\n",
    "        if targets_only and not np.isin(model_name,compared_models):\n",
    "          continue\n",
    "        initial_order.append(model_name)\n",
    "        fitdata_file=os.path.join(filepath)\n",
    "        batchdf=pd.read_pickle(fitdata_file)\n",
    "        batchdf = batchdf.sort_values(by='fitId', ascending=True).reset_index(drop=True)\n",
    "        for fitId in range(len(batchdf)):\n",
    "          batchdf.loc[fitId,'fitMemory']['fitId']=fitId\n",
    "          \n",
    "        results_list.append(batchdf)\n",
    "        \n",
    "elif  loadMode=='targets':\n",
    "        \n",
    "    for i, name in enumerate(compared_models):\n",
    "        filepath = os.path.join(fit_folder,fit_prefixes+compared_models[i]+\".pkl\")\n",
    "        if os.path.exists(filepath):\n",
    "            batchdf=pd.read_pickle(filepath)\n",
    "            batchdf = batchdf.sort_values(by='fitId', ascending=True).reset_index(drop=True)\n",
    "            for fitId in range(len(batchdf)):\n",
    "              batchdf.loc[fitId,'fitMemory']['fitId']=fitId\n",
    "            results_list.append(batchdf)\n",
    "            initial_order.append(compared_models[i])\n",
    "        else:\n",
    "            raise Exception(compared_models[i] +f' not found in {fit_folder+fit_prefixes}. Remove from the list.')\n",
    "    \n",
    "if targets_only and loadMode=='dir':\n",
    "  reordered_results=[]\n",
    "  for initname in initial_order:\n",
    "    if np.isin(initname,compared_models):\n",
    "      reordered_results.append(results_list[initial_order.index(initname)])\n",
    "  results_df=pd.concat(reordered_results,axis=0)\n",
    "  print('here')\n",
    "elif loadMode=='dir':\n",
    "  reordering_vec=[]\n",
    "  for initname in initial_order:\n",
    "    reordering_vec.append(len(initname))\n",
    "  reordering_vec=np.argsort(reordering_vec)\n",
    "  reordered_results=[results_list[reordering_vec[i]] for i in range(len(reordering_vec))]\n",
    "  results_df=pd.concat(reordered_results,axis=0)\n",
    "  compared_models=[initial_order[reordering_vec[i]] for i in range(len(reordering_vec))]\n",
    "else:\n",
    "  results_df=pd.concat(results_list,axis=0)\n",
    "\n",
    "results_df.reset_index(drop=True, inplace=True)\n"
   ]
  },
  {
   "cell_type": "code",
   "execution_count": 3,
   "metadata": {},
   "outputs": [
    {
     "data": {
      "application/vnd.microsoft.datawrangler.viewer.v0+json": {
       "columns": [
        {
         "name": "index",
         "rawType": "int64",
         "type": "integer"
        },
        {
         "name": "fitAgent",
         "rawType": "object",
         "type": "string"
        },
        {
         "name": "bestAIC",
         "rawType": "float64",
         "type": "float"
        },
        {
         "name": "freq",
         "rawType": "float64",
         "type": "float"
        },
        {
         "name": "ep",
         "rawType": "float64",
         "type": "float"
        }
       ],
       "conversionMethod": "pd.DataFrame",
       "ref": "4d24437b-3101-4dbc-a3d5-086c7b84003b",
       "rows": [
        [
         "0",
         "SASonly",
         "229.3169776566756",
         "0.18761200981751636",
         "0.09191215280121841"
        ],
        [
         "1",
         "SASSS_Omega_standard",
         "227.14430827980544",
         "0.8123879901824836",
         "0.9080878471987816"
        ]
       ],
       "shape": {
        "columns": 4,
        "rows": 2
       }
      },
      "text/html": [
       "<div>\n",
       "<style scoped>\n",
       "    .dataframe tbody tr th:only-of-type {\n",
       "        vertical-align: middle;\n",
       "    }\n",
       "\n",
       "    .dataframe tbody tr th {\n",
       "        vertical-align: top;\n",
       "    }\n",
       "\n",
       "    .dataframe thead th {\n",
       "        text-align: right;\n",
       "    }\n",
       "</style>\n",
       "<table border=\"1\" class=\"dataframe\">\n",
       "  <thead>\n",
       "    <tr style=\"text-align: right;\">\n",
       "      <th></th>\n",
       "      <th>fitAgent</th>\n",
       "      <th>bestAIC</th>\n",
       "      <th>freq</th>\n",
       "      <th>ep</th>\n",
       "    </tr>\n",
       "  </thead>\n",
       "  <tbody>\n",
       "    <tr>\n",
       "      <th>0</th>\n",
       "      <td>SASonly</td>\n",
       "      <td>229.316978</td>\n",
       "      <td>0.187612</td>\n",
       "      <td>0.091912</td>\n",
       "    </tr>\n",
       "    <tr>\n",
       "      <th>1</th>\n",
       "      <td>SASSS_Omega_standard</td>\n",
       "      <td>227.144308</td>\n",
       "      <td>0.812388</td>\n",
       "      <td>0.908088</td>\n",
       "    </tr>\n",
       "  </tbody>\n",
       "</table>\n",
       "</div>"
      ],
      "text/plain": [
       "               fitAgent     bestAIC      freq        ep\n",
       "0               SASonly  229.316978  0.187612  0.091912\n",
       "1  SASSS_Omega_standard  227.144308  0.812388  0.908088"
      ]
     },
     "metadata": {},
     "output_type": "display_data"
    },
    {
     "name": "stdout",
     "output_type": "stream",
     "text": [
      "Highest exceedance probability: SASSS_Omega_standard (0.91)\n"
     ]
    }
   ],
   "source": [
    "criterion = 'bestAIC'\n",
    "group_df = results_df.groupby(['fitAgent'])[criterion].mean().reset_index()\n",
    "if targets_only or loadMode=='targets':\n",
    "  group_df = group_df.set_index(\"fitAgent\").loc[compared_models].reset_index()\n",
    "else:\n",
    "  group_df = group_df.sort_values(by=\"fitAgent\", key=lambda x: x.str.len()).reset_index()\n",
    "\n",
    "# get definitive model order\n",
    "model_names=group_df['fitAgent'].to_list()\n",
    "\n",
    "#\n",
    "pivot_df = results_df.pivot(columns='fitAgent', index='fitId',  values=criterion).reset_index()\n",
    "pivot_df=pivot_df[model_names]\n",
    "result = GroupBMC(-pivot_df.T.values*0.5).get_result()\n",
    "\n",
    "#\n",
    "pd.set_option('display.max_colwidth', None)\n",
    "group_df['freq']=result.frequency_mean\n",
    "group_df['ep']=result.exceedance_probability\n",
    "display(group_df)\n",
    "print(f'Highest exceedance probability: {group_df[\"fitAgent\"].values[np.argmax(result.exceedance_probability)]} ({np.max(result.exceedance_probability):.2f})')"
   ]
  },
  {
   "cell_type": "code",
   "execution_count": 4,
   "metadata": {},
   "outputs": [
    {
     "data": {
      "image/png": "[encoded data removed]",
      "text/plain": [
       "<Figure size 1200x500 with 2 Axes>"
      ]
     },
     "metadata": {},
     "output_type": "display_data"
    }
   ],
   "source": [
    "import matplotlib.pyplot as plt\n",
    "\n",
    "fig, axes = plt.subplots(nrows=1, ncols=2, figsize=(12, 5))\n",
    "\n",
    "\n",
    "sns.boxplot(x='fitAgent', hue='fitAgent', order=compared_models, y=criterion, data=results_df, width=0.5, palette='Pastel1', ax=axes[0])\n",
    "sns.lineplot(x='fitAgent',  y=criterion, data=results_df, style='fitId', dashes=False, color='black',linestyle='--', alpha=0.5, ax=axes[0], legend=False)\n",
    "\n",
    "axes[0].set_xlabel('Agent', fontsize=12)\n",
    "axes[0].set_ylabel(criterion[4:], fontsize=12)\n",
    "axes[0].set_xticks(np.arange(0,len(model_names),1))\n",
    "axes[0].set_xticklabels(np.arange(0,len(model_names),1))  # Option 1: Setting empty labels\n",
    "plt.ylabel(criterion[4:], fontsize=12)\n",
    "plt.grid(False)\n",
    "\n",
    "# Show plot with adjustments\n",
    "\n",
    "\n",
    "\n",
    "axes[1].errorbar(np.arange(0,pivot_df.shape[1],1), result.frequency_mean, result.frequency_var, linewidth=2, color='black')\n",
    "axes[1].set_xlabel('Model', fontsize=12)\n",
    "axes[1].set_ylim(0, 1)\n",
    "axes[1].set_ylabel('Posterior model frequency', fontsize=12)\n",
    "\n",
    "start_y=-0.01\n",
    "delta_y=-0.05\n",
    "plt.figtext(0.05, start_y, 'Model list', ha=\"left\", fontsize=10, weight='bold')\n",
    "start_y=start_y+delta_y\n",
    "for m, modname in enumerate(model_names):\n",
    "    plt.figtext(0.05, start_y, f'{m}: {model_names[m]}', ha=\"left\", fontsize=10)\n",
    "    start_y=start_y+delta_y\n",
    "#plt.figtext(0.5, -0.15, \"Another line of text.\", ha=\"center\", fontsize=10)\n",
    "\n",
    "plt.tight_layout()\n",
    "plt.show()\n",
    "\n"
   ]
  },
  {
   "cell_type": "code",
   "execution_count": null,
   "metadata": {},
   "outputs": [],
   "source": [
    "# augment the dataset with model-based regressors\n",
    "df_full_augmented=pd.DataFrame()\n",
    "\n",
    "fitMemory=results_df.loc[results_df.loc[:,'fitAgent']==selected_model,'fitMemory'].to_list()\n",
    "\n",
    "for pix, pid in enumerate(metadata['included_participants']):\n",
    "  \n",
    "  df_subdata=pd.concat([df_full.loc[df_full['participant']==pid,:].reset_index(drop=True),  fitMemory[pix].reset_index(drop=True)],axis=1).reset_index(drop=True)\n",
    "  \n",
    "  df_subdata['SSPE']=np.insert(df_subdata['SSPE'].values[0:-1],0,np.nan)\n",
    "  df_subdata['SASPE']=np.insert(df_subdata['SASPE'].values[0:-1],0,np.nan)\n",
    "  df_subdata['OmegaPE']=np.insert(df_subdata['OmegaPE'].values[0:-1],0,np.nan)\n",
    "  \n",
    "  df_full_augmented=pd.concat([df_full_augmented,df_subdata],axis=0,ignore_index=True).reset_index(drop=True)\n",
    "\n",
    "augmented_data_file=os.path.join(compiled_datadir,dataset_name, f'dataset_{selected_model}.pkl')\n",
    "augmented_data_file_csv=os.path.join(compiled_datadir,dataset_name, f'dataset_{selected_model}.csv')\n",
    "df_full_augmented.to_pickle(augmented_data_file)\n",
    "df_full_augmented.to_csv(augmented_data_file_csv)"
   ]
  }
 ],
 "metadata": {
  "kernelspec": {
   "display_name": "Python 3",
   "language": "python",
   "name": "python3"
  },
  "language_info": {
   "codemirror_mode": {
    "name": "ipython",
    "version": 3
   },
   "file_extension": ".py",
   "mimetype": "text/x-python",
   "name": "python",
   "nbconvert_exporter": "python",
   "pygments_lexer": "ipython3",
   "version": "3.10.16"
  }
 },
 "nbformat": 4,
 "nbformat_minor": 4
}
